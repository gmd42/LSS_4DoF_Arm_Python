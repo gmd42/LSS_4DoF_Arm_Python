{
  "nbformat": 4,
  "nbformat_minor": 0,
  "metadata": {
    "colab": {
      "name": "Bending Analysis",
      "provenance": [],
      "collapsed_sections": [],
      "include_colab_link": true
    },
    "kernelspec": {
      "name": "python3",
      "display_name": "Python 3"
    }
  },
  "cells": [
    {
      "cell_type": "markdown",
      "metadata": {
        "id": "view-in-github",
        "colab_type": "text"
      },
      "source": [
        "<a href=\"https://colab.research.google.com/github/gmd42/LSS_4DoF_Arm_Python/blob/master/Bending_Analysis.ipynb\" target=\"_parent\"><img src=\"https://colab.research.google.com/assets/colab-badge.svg\" alt=\"Open In Colab\"/></a>"
      ]
    },
    {
      "cell_type": "code",
      "metadata": {
        "id": "rhH3ZZ3AQg6c"
      },
      "source": [
        "import numpy as np\n",
        "from scipy.integrate import quad"
      ],
      "execution_count": null,
      "outputs": []
    },
    {
      "cell_type": "markdown",
      "metadata": {
        "id": "tKjjOarIk-5M"
      },
      "source": [
        "We aim to parameterize our gripper, such that a gripper can be printed for any stent while maintaining the same performance (i.e. stiffness). For a gripper to be functional at grabbing a particular stent, it must be able to deform around the stent solely on the force of the arm moving to the stent location (i.e. not be too stiff), and it must only ever deform elastically.\n",
        "\n",
        "To ensure that the gripper neither exceeds yield stress nor requires more force than the arm can provide, we perform the following analysis:"
      ]
    },
    {
      "cell_type": "markdown",
      "metadata": {
        "id": "QyTqEu-0403N"
      },
      "source": [
        "The purpose of this document is to calculate the forces on our gripper due to deflection. The current solution was found by trial and error because of a lack of material properties. We will analyze the geometry of our gripper using assumed (and most likely incorrect) material properties to find a force. It is acceptable if this force is incorrect because we need to determine how changing the geometry will affect the force relatively in order to make a scalable model."
      ]
    },
    {
      "cell_type": "markdown",
      "metadata": {
        "id": "Cl9GW0nD5u9r"
      },
      "source": [
        "Since the stent is stiff relative to the gripper, calculating the maximum deflection of each gripper half is trivial. As shown in the CAD below, the distance between the prongs of the gripper at rest is approximately 21.5 mm. Knowing the diameter of the stent, we can calculate the maximum deflection. This calculation is performed below.\n",
        "\n",
        "<img src=\"https://drive.google.com/uc?id=1UiiMws1x3WFSPSME97T14JdcVkJ8Y5qG\" width=\"500\">\n"
      ]
    },
    {
      "cell_type": "code",
      "metadata": {
        "id": "hNRqjTjN7ou3",
        "colab": {
          "base_uri": "https://localhost:8080/"
        },
        "outputId": "bbf00a61-e85a-458f-943c-b22cd57c451c"
      },
      "source": [
        "#Constants#\n",
        "Stent_OD = 29         #mm\n",
        "Prong_Dist = 21.534   #mm\n",
        "\n",
        "#Calculations#\n",
        "Deflection = (Stent_OD - Prong_Dist) / 2\n",
        "\n",
        "#Results#\n",
        "print(\"Deflection:\", round(Deflection,3), \"mm\")\n"
      ],
      "execution_count": null,
      "outputs": [
        {
          "output_type": "stream",
          "text": [
            "Deflection: 3.733 mm\n"
          ],
          "name": "stdout"
        }
      ]
    },
    {
      "cell_type": "markdown",
      "metadata": {
        "id": "OykbT5eiS5DS"
      },
      "source": [
        "The images below show the dimensions of our gripper design that will be used for the remaining calculations.\n",
        "<img src=\"https://drive.google.com/uc?id=1kpQq373apVLTn1kDsPKlB14u-UWsXuzg\" width=\"500\">\n",
        "\n",
        "<img src=\"https://drive.google.com/uc?id=1j_xKJK_wsNtNdSsFDUEYVX22OZuZY_HY\" width=\"500\">\n",
        "\n"
      ]
    },
    {
      "cell_type": "markdown",
      "metadata": {
        "id": "6Bqu2N_95vSQ"
      },
      "source": [
        "In with this design we have a curved beam coupled with a straight beam. When a beam is curved, the neutral axis does not coincide witht he centroidal axis. Our gripper has a rectangular cross section. Table 3-4 in Shigley shows this distance.\n",
        "\n",
        "<img src=\"https://drive.google.com/uc?id=1BIkTKmT1CGwmzh2t2qQQGsj4C23Tudjk\" width=\"600\">\n",
        "\n"
      ]
    },
    {
      "cell_type": "code",
      "metadata": {
        "colab": {
          "base_uri": "https://localhost:8080/"
        },
        "id": "cIvKHBIEPxf0",
        "outputId": "705f4b80-f1dd-4da9-b496-d1f0d6c0d269"
      },
      "source": [
        "#Constants#\n",
        "h = 2         #mm\n",
        "ri = 14.25    #mm\n",
        "ro = 16.25    #mm\n",
        "\n",
        "#Calculations#\n",
        "rc = ri + (h/2)\n",
        "rn = h/(np.log(ro/ri))\n",
        "e = rc - rn\n",
        "\n",
        "#Results#\n",
        "print(\"Centroidal Radius:\",round(rc,3), \"mm\")\n",
        "print(\"Neutral Axis Radius:\", round(rn,3), \"mm\")\n",
        "print(\"Eccentricity:\", round(e,3), \"mm\")"
      ],
      "execution_count": null,
      "outputs": [
        {
          "output_type": "stream",
          "text": [
            "Centroidal Radius: 15.25 mm\n",
            "Neutral Axis Radius: 15.228 mm\n",
            "Eccentricity: 0.022 mm\n"
          ],
          "name": "stdout"
        }
      ]
    },
    {
      "cell_type": "markdown",
      "metadata": {
        "id": "f8uGndq-5ewo"
      },
      "source": [
        "To calculate the force required for our deflection of this complex beam, we are going to utilize Castigliano's theorem. According to Shigley, Castigliano's theroem states that:\n",
        "\n",
        "*When forces act on elastic systems subject to small displacements, the displacement corresponding to any force, in the direction of the force, is equal to the partial derivative of the total strain energy with respect to that force.*\n",
        "\n",
        "$\\delta_i= \\frac{\\partial U}{\\partial F_i}$\n",
        "\n",
        "Where $\\delta_i$ is the is the displacement of the point of application of the force $F_i$ in the direction of $F_i$.\n",
        "\n",
        "For a straight beam that is uniform along it's length the following equations define the total energy of the beam.\n",
        "\n",
        "(Shigley 4-22/23) $U_{bend}=\\int\\frac{M^2}{2EI}dx=\\frac{M^2l}{2EI}$\n",
        "\n",
        "(Shigley 4-24/25) $U_{shear}=\\int\\frac{CV^2}{2AG}dx=\\frac{CV^2l}{2AG}$\n",
        "\n",
        "Where $C$ is a correction factor from table 4-1 and is 1.2 for a rectangular cross section.\n",
        "\n",
        "$U=U_{bend}+U_{shear}$"
      ]
    },
    {
      "cell_type": "markdown",
      "metadata": {
        "id": "ARmoLbOKVxUA"
      },
      "source": [
        "Castigliano's theorem can also be applied to bent beams such as the one shown below taken from Shigley.\n",
        "\n",
        "<img src=\"https://drive.google.com/uc?id=1zv81E-NnIf1NouGYhs0VoCjHwmeCg1E5\" width=\"600\">\n",
        "\n",
        "\n",
        "When a beam is bent, the bending moment and axial force are coupled, creating multiple energy terms. \n",
        "\n",
        "(Shigley 4-32)  $U_1=\\int\\frac{M^2d\\theta}{2AeE}$\n",
        "\n",
        "Where $e$ is the eccentricity calculated above.\n",
        "\n",
        "(Shigley 4-34)  $U_2=\\int\\frac{F_\\theta^2Rd\\theta}{2AE}$\n",
        "\n",
        "(Shigley 4-35)  $U_3=-\\int\\frac{MF_\\theta d\\theta}{AE}$\n",
        "\n",
        "(Shigley 4-36)  $U_4=\\int\\frac{CF_r^2Rd\\theta}{2AG}$\n",
        "\n",
        "Where $C$ is a correction factor from table 4-1 and is 1.2 for a rectangular cross section.\n",
        "\n",
        "These equations combine to form\n",
        "\n",
        "(Shigley 4-38)\n",
        "\n",
        "$\\delta=\n",
        "\\frac{\\partial U}{\\partial F}=\n",
        "\\int\\frac{M}{AeE}(\\frac{\\partial M}{\\partial F})d\\theta +\n",
        "\\int\\frac{F_\\theta R}{AE}(\\frac{\\partial F_\\theta}{\\partial F})d\\theta - \n",
        "\\int\\frac{1}{AE}(\\frac{\\partial (MF_\\theta}{\\partial F})d\\theta +\n",
        "\\int\\frac{CF_rR}{AG}(\\frac{\\partial Fr}{\\partial F})d\\theta$\n",
        "\n",
        "This equation applies to any section of a thick walled circular curved beam.\n",
        "\n",
        "Great simplifications can be made if the beam is thin walled. This is typically defined as R/h > 10."
      ]
    },
    {
      "cell_type": "code",
      "metadata": {
        "colab": {
          "base_uri": "https://localhost:8080/"
        },
        "id": "00YfNIK9khjt",
        "outputId": "945769ff-ce1d-4ebe-ab0d-97e77bd2a7b9"
      },
      "source": [
        "#Calculations#\n",
        "Thickness = rn/h\n",
        "\n",
        "#Results#\n",
        "print(\"R/h:\", round(Thickness, 3))"
      ],
      "execution_count": null,
      "outputs": [
        {
          "output_type": "stream",
          "text": [
            "R/h: 7.614\n"
          ],
          "name": "stdout"
        }
      ]
    },
    {
      "cell_type": "markdown",
      "metadata": {
        "id": "38nknxrhk7Gh"
      },
      "source": [
        "Unfortuantely for us this is not the case. We are close to the limit so we could probably simplify the equations, but for the sake of correctness, we will not."
      ]
    },
    {
      "cell_type": "markdown",
      "metadata": {
        "id": "6Vf6YtIUpHou"
      },
      "source": [
        "The image below shows the FBD of one of our prongs. Our goal is to solve for F using the known dispacement. For simplicity, the ball at the end of the prong will be ignored.\n",
        "\n",
        "<img src=\"https://drive.google.com/uc?id=1qTLQ_JIZxyn-ypPoruDfkmjwaKlxJiY_\" width=\"650\">\n",
        "\n",
        "Our beam is comprised of two distinct parts, the straight part and the curved part. Slicing the beam along the straight part yields the following FBD.\n",
        "\n",
        "<img src=\"https://drive.google.com/uc?id=1EVJz8ttxH9A1M_VI0a3Qdad0YJAkiJ4_\" width=\"600\">\n"
      ]
    },
    {
      "cell_type": "markdown",
      "metadata": {
        "id": "57x5ZEnuFL4E"
      },
      "source": [
        "\n",
        "$M_{AB}=Fl_{AB}$\n",
        "\n",
        "From Shigley 4-22\n",
        "\n",
        "$U_{bend}=\\frac{F^2l_{AB}^3}{2EI}$\n",
        "\n",
        "$C = 1.2$\n",
        "\n",
        "$V_{AB} = F$\n",
        "\n",
        "From Shigley 4-24\n",
        "\n",
        "$U_{shear}=\\frac{1.2F^2l_{AB}}{2AG}$\n",
        "\n",
        "$U_{straight}=\\frac{F^2l_{AB}^3}{2EI}+\\frac{1.2F^2l_{AB}}{2AG}$\n",
        "\n",
        "$\\frac{\\partial U}{\\partial F}=\\frac{Fl_{AB}^3}{EI}+\\frac{1.2Fl_{AB}}{AG}=\\delta_{straight}$\n"
      ]
    },
    {
      "cell_type": "markdown",
      "metadata": {
        "id": "eHOjl653J9Cq"
      },
      "source": [
        "Slicing the beam along the curved part yields the following FBD.\n",
        "\n",
        "<img src=\"https://drive.google.com/uc?id=1kWqMp0gPWkuV9MP4ozcQ9hZyEtAjhL-D\" width=\"600\">\n",
        "\n",
        "Where $\\theta$ is the angle between the vertical and $V_{BC}$\n",
        "\n",
        "$M_{BC}=F(R_c\\sin(30)+R_c\\sin(\\theta))=FR_c(\\sin(30)+\\sin(\\theta))$\n",
        "\n",
        "Where $R_c$ is the Centroidal Radius.\n",
        "\n",
        "$V_{BC}=F\\cos(\\theta)$\n",
        "\n",
        "$N_{BC}=F\\sin(\\theta)$\n",
        "\n",
        "$U_1=\\int_{-30}^{71.2}\\frac{M_{BC}^2d\\theta}{2AeE} =\n",
        "\\int_{-30}^{71.2}\\frac{(F^2R_c^2(\\sin(30)+\\sin(\\theta))^2}{2AeE}d\\theta=\n",
        "\\frac{F^2R_c^2}{2AeE}\\int_{-30}^{71.2}\\sin^2(\\theta)+2\\sin(30)\\sin(\\theta)+\\sin^2(30)d\\theta$\n",
        "\n",
        "$U_2=\\int_{-30}^{71.2}\\frac{N_{BC}^2R_cd\\theta}{2AE}=\n",
        "\\int_{-30}^{71.2}\\frac{F^2\\sin^2(\\theta)R_c}{2AE}d\\theta=\n",
        "\\frac{F^2R_c}{2AE}\\int_{-30}^{71.2}\\sin^2(\\theta)d\\theta $\n",
        "\n",
        "$U_3=-\\int_{-30}^{71.2}\\frac{M_{BC}N_{BC}}{AE} d\\theta=\n",
        "-\\int_{-30}^{71.2}\\frac{F^2R_c(\\sin(30)+\\sin(\\theta))\\sin(\\theta)}{AE} d\\theta=\n",
        "\\frac{F^2R_c}{AE}\\int_{-30}^{71.2}\\sin^2(\\theta)+\\sin(30)\\sin(\\theta)d\\theta$\n",
        "\n",
        "$U_4=\\int_{-30}^{71.2}\\frac{CV_{BC}^2R_c}{2AG}d\\theta=\n",
        "\\int_{-30}^{71.2}\\frac{1.2F^2\\cos^2(\\theta)R_c}{2AG}d\\theta=\n",
        "\\frac{1.2F^2R_c}{2AG}\\int_{-30}^{71.2}cos^2(\\theta)d\\theta$\n",
        "\n",
        "$\\delta_{curved}=\\frac{\\partial U}{\\partial F}=(\\frac{FR_C^2}{AeE}\\int_{-30}^{71.2}\\sin^2(\\theta)+2\\sin(30)\\sin(\\theta)+\\sin^2(30)d\\theta)+(\\frac{FR_c}{AE}\\int_{-30}^{71.2}\\sin^2(\\theta)d\\theta)-(\\frac{2FR_c}{AE}\\int_{-30}^{71.2}\\sin^2(\\theta)+\\sin(30)\\sin(\\theta)d\\theta)+(\\frac{1.2FR_c}{AG}\\int_{-30}^{71.2}cos^2(\\theta)d\\theta)$\n",
        "\n",
        "$\\delta_{total}=\\delta_{curved}+\\delta_{straight}$\n",
        "\n",
        "Factor out $F$ and divide by $\\delta_{total}$\n",
        "\n",
        "$\\frac{1}{F}=\\frac{l_{AB}^3}{EI\\delta_{total}}+\\frac{1.2l_{AB}}{AG\\delta_{total}}+\n",
        "(\\frac{R_C^2}{AeE\\delta_{total}}\\int_{-30}^{71.2}\\sin^2(\\theta)+2\\sin(30)\\sin(\\theta)+\\sin^2(30)d\\theta)+\n",
        "(\\frac{R_c}{AE\\delta_{total}}\\int_{-30}^{71.2}\\sin^2(\\theta)d\\theta)-\n",
        "(\\frac{2R_c}{AE\\delta_{total}}\\int_{-30}^{71.2}\\sin^2(\\theta)+\\sin(30)\\sin(\\theta)d\\theta)+(\\frac{1.2R_c}{AG\\delta_{total}}\\int_{-30}^{71.2}cos^2(\\theta)d\\theta)$"
      ]
    },
    {
      "cell_type": "code",
      "metadata": {
        "id": "kM8Qm6QsOpLr",
        "colab": {
          "base_uri": "https://localhost:8080/"
        },
        "outputId": "f8a5e887-2d54-4912-b061-1c3ba626e1ef"
      },
      "source": [
        "#Integrals#\n",
        "def u1(x):\n",
        "  return np.sin(x)**2 + 2*np.sin(x)*np.sin(np.radians(30))+np.sin(np.radians(30))**2\n",
        "\n",
        "def u2(x):\n",
        "  return np.sin(x)**2\n",
        "\n",
        "def u3(x):\n",
        "  return np.sin(x)**2 + np.sin(x)*np.sin(np.radians(30))\n",
        "\n",
        "def u4(x):\n",
        "  return np.cos(x)**2\n",
        "\n",
        "#Calcualtions#\n",
        "U1, err1 = quad(u1, np.radians(-30), np.radians(71.2))\n",
        "U2, err2 = quad(u2, np.radians(-30), np.radians(71.2))\n",
        "U3, err3 = quad(u3, np.radians(-30), np.radians(71.2))\n",
        "U4, err4 = quad(u4, np.radians(-30), np.radians(71.2))\n",
        "\n",
        "#Results#\n",
        "print(\"Definite of U1:\", U1)\n",
        "print(\"Definite of U2:\", U2)\n",
        "print(\"Definite of U3:\", U3)\n",
        "print(\"Definite of U4:\", U4)"
      ],
      "execution_count": null,
      "outputs": [
        {
          "output_type": "stream",
          "text": [
            "-0.5235987755982988\n",
            "Definite of U1: 1.499421968896197\n",
            "Definite of U2: 0.514093959587704\n",
            "Definite of U3: 0.7859738138646678\n",
            "Definite of U4: 1.2521792434305574\n"
          ],
          "name": "stdout"
        }
      ]
    },
    {
      "cell_type": "markdown",
      "metadata": {
        "id": "tJ1IWn6XAp9i"
      },
      "source": [
        "by solving the definite integrals, we can simplify to\n",
        "\n",
        "$\\frac{1}{F}=\\frac{l_{AB}^3}{EI\\delta_{total}}+\\frac{1.2l_{AB}}{AG\\delta_{total}}+\n",
        "1.4994*\\frac{R_C^2}{AeE\\delta_{total}}+\n",
        "0.5141*\\frac{R_c}{AE\\delta_{total}}-\n",
        "0.7860*\\frac{2R_c}{AE\\delta_{total}}+\n",
        "1.2522*\\frac{1.2R_c}{AG\\delta_{total}}$"
      ]
    },
    {
      "cell_type": "markdown",
      "metadata": {
        "id": "970QOD-KljK_"
      },
      "source": [
        "We have now solved for force F. To make this equation useful for the parameterization of our gripper, we assess our knowns and unknowns:\n",
        "\n",
        "Material Properties:\n",
        "* resin Young's Modulus $E$\n",
        "* resin Shear Modulus $G$\n",
        "\n",
        "Gripper Properties:\n",
        "* Beam length $ l $   \n",
        "* Beam thickness $h$\n",
        "* Beam width $b$\n",
        "* Claw angle $\\theta$\n",
        "* Centroidal radius $R_c$\n",
        "* Properties derived from $b$ and $h$\n",
        "  * Moment of inertia $I$\n",
        "  * Cross-sectional area $A$ \n",
        "\n",
        "Other:\n",
        "* Force applied by stent $ F $\n",
        "* Tip displacement $\\delta_{total}$\n",
        "\n",
        "From here, we can essentially check off the list of parameters until we have fully constrained our design. First, we acknowledge that $\\theta$ should be the same for all stents, so the current theta value of 60 degrees will be held constant. We also intend to measure and apply constant values for material properties E and G. We will measure E and G using a cantilever setup and a thin beam, which will be printed in a similar orientation to our gripper.\n",
        "\n",
        "So on our checklist, $E$, $G$, and $\\theta$ have been crossed off, leaving  $F$, $\\delta_{total}$, $l$, $h$, $b$, $R_c$, $I$, and $A$.\n",
        "\n",
        "We want the user to be able to manufacture a gripper for any stent size, so we consider stent's outer diameter as being known. Some parameters are functions of stent diameter:\n",
        "\n",
        "$R_c = ( D_{stent} + h ) * 0.5$\n",
        "\n",
        "$\\delta_{total} = ( R_c - h * 0.5 ) * cos(\\theta) - h  $  \n",
        "By substiting for $R_c$ and simplifying, we get  \n",
        "$\\delta_{total} = D_{stent} * 0.5 * cos(\\theta) - h$\n",
        "\n",
        "We also note that $I$ and $A$ are directly derived from $h$ and $b$ by the following equations:\n",
        "\n",
        "$ A = h * b $\n",
        "\n",
        "$ I = \\frac{1}{12}bh^3 $\n",
        "\n",
        "Now, we've reduced our checklist of parameters down to $F$, $l$, $h$, and $b$.\n",
        "\n",
        "We recall the following from our progress so far on the gripper and the arm as a whole:\n",
        "* a gripper with an inadequate $b$ value relative to the length of the stent was unstable\n",
        "* changing the value of *l* would require adjusting the code for the arm, which shouldn't have to change for any stent size\n",
        "\n",
        "*************************\n",
        "\n",
        "We really want the ceter of the stent to be the same, not l\n",
        "\n",
        "Based on this information, l should be held completely constant:\n",
        "\n",
        "$ l = 20mm $\n",
        "\n",
        "\n",
        "************************\n",
        "And since we have a functioning value for $b/D_{stent}$, we may allow the following equation to define $b$:\n",
        "\n",
        "$ \\frac{b_{current}}{D_{stent_{current}}} = \\frac{b}{D_{stent}} $\n",
        "\n",
        "$\\therefore b = \\frac{b_{current} * D_{stent}}{D_{stent_{current}}} =\n",
        "\\frac{12.00}{29.00} * D_{stent} = 0.4138 * D_{stent}$\n",
        "\n",
        "Now our only unknowns are $F$ and $h$. In other words, for a given diameter, we can reduce the original function to a much simpler $F(h, D_{stent}) $\n",
        "\n",
        "$\\frac{1}{F}=\\frac{l_{AB}^3}{EI\\delta_{total}}+\\frac{1.2l_{AB}}{AG\\delta_{total}}+\n",
        "\\frac{R_C^2}{AeE\\delta_{total}}* 1.4994 +\n",
        "\\frac{R_c}{AE\\delta_{total}}*0.5141-\n",
        "\\frac{2R_c}{AE\\delta_{total}}*1.0579 +\n",
        "\\frac{1.2R_c}{AG\\delta_{total}}*1.252$\n",
        "\n"
      ]
    }
  ]
}